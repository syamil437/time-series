{
 "cells": [
  {
   "cell_type": "code",
   "execution_count": 1,
   "metadata": {},
   "outputs": [],
   "source": [
    "# Importing libraries\n",
    "import pandas as pd # data processing, CSV file I/O (e.g. pd.read_csv)\n"
   ]
  },
  {
   "cell_type": "code",
   "execution_count": 2,
   "metadata": {},
   "outputs": [],
   "source": [
    "# Importing model libraries\n",
    "import xgboost as xgb"
   ]
  },
  {
   "cell_type": "code",
   "execution_count": 3,
   "metadata": {},
   "outputs": [],
   "source": [
    "# Read .csv file with company names\n",
    "\n",
    "df = pd.read_csv('GREATEC.csv')\n",
    "\n",
    "# Changing variable into a dataframe\n",
    "df= df[['c','d','h','l','o','v']]\n",
    "df['d'] = pd.to_datetime(df['d'], dayfirst= True )\n",
    "df.set_index('d',inplace=True,drop=True)\n",
    "df.index.name = None"
   ]
  },
  {
   "cell_type": "code",
   "execution_count": 4,
   "metadata": {},
   "outputs": [],
   "source": [
    "# Get price changes between 1Day gap"
   ]
  },
  {
   "cell_type": "code",
   "execution_count": 5,
   "metadata": {},
   "outputs": [],
   "source": [
    "day1_different =df.diff().dropna()"
   ]
  },
  {
   "cell_type": "code",
   "execution_count": 6,
   "metadata": {},
   "outputs": [],
   "source": [
    "for col in day1_different.columns:\n",
    "    for i in range(1,2):\n",
    "        day1_different[col+str(i)+'_day_ago'] = day1_different[col].shift(i)\n",
    "\n",
    "day1_different.dropna(inplace=True)"
   ]
  },
  {
   "cell_type": "code",
   "execution_count": 7,
   "metadata": {},
   "outputs": [],
   "source": [
    "# Drop variable that have high correlation \n",
    "day1_different.drop(['c','o','v','h','h1_day_ago', 'l', 'l1_day_ago'],axis='columns', inplace=True)"
   ]
  },
  {
   "cell_type": "code",
   "execution_count": 8,
   "metadata": {},
   "outputs": [],
   "source": [
    "#Train/Test Split\n",
    "#Cut off the data after 13-Jan-2021 to use as our validation set.\n",
    "split_date = '13-Jan-2021'\n",
    "stock_train = day1_different.loc[day1_different.index <= split_date].copy()\n",
    "stock_test = day1_different.loc[day1_different.index > split_date].copy()"
   ]
  },
  {
   "cell_type": "code",
   "execution_count": 9,
   "metadata": {},
   "outputs": [],
   "source": [
    "#Create Time Series Features\n",
    "def create_features(df, label=None):\n",
    "    \"\"\"\n",
    "    Creates time series features from datetime index\n",
    "    \"\"\"\n",
    "    \n",
    "    df['c1_day_ago'] = df.c1_day_ago\n",
    "    df['o1_day_ago'] = df.o1_day_ago\n",
    "    df['v1_day_ago'] = df.v1_day_ago\n",
    "  \n",
    "    \n",
    "    \n",
    "    X = df[['c1_day_ago','o1_day_ago','v1_day_ago']]\n",
    "    if label:\n",
    "        y = df[label]\n",
    "        return X, y\n",
    "    return X"
   ]
  },
  {
   "cell_type": "code",
   "execution_count": 10,
   "metadata": {},
   "outputs": [],
   "source": [
    "X_train, y_train = create_features(stock_train,label='c1_day_ago')\n",
    "X_test, y_test = create_features(stock_test ,label='c1_day_ago')"
   ]
  },
  {
   "cell_type": "code",
   "execution_count": 11,
   "metadata": {},
   "outputs": [
    {
     "name": "stdout",
     "output_type": "stream",
     "text": [
      "[0]\tvalidation_0-rmse:0.34771\tvalidation_1-rmse:0.26882\n",
      "[1]\tvalidation_0-rmse:0.24494\tvalidation_1-rmse:0.18367\n",
      "[2]\tvalidation_0-rmse:0.17264\tvalidation_1-rmse:0.12403\n",
      "[3]\tvalidation_0-rmse:0.12186\tvalidation_1-rmse:0.08643\n",
      "[4]\tvalidation_0-rmse:0.08618\tvalidation_1-rmse:0.06244\n",
      "[5]\tvalidation_0-rmse:0.06102\tvalidation_1-rmse:0.04626\n",
      "[6]\tvalidation_0-rmse:0.04335\tvalidation_1-rmse:0.03764\n",
      "[7]\tvalidation_0-rmse:0.03097\tvalidation_1-rmse:0.03301\n",
      "[8]\tvalidation_0-rmse:0.02226\tvalidation_1-rmse:0.03245\n",
      "[9]\tvalidation_0-rmse:0.01617\tvalidation_1-rmse:0.03275\n",
      "[10]\tvalidation_0-rmse:0.01190\tvalidation_1-rmse:0.03267\n",
      "[11]\tvalidation_0-rmse:0.00889\tvalidation_1-rmse:0.03335\n",
      "[12]\tvalidation_0-rmse:0.00679\tvalidation_1-rmse:0.03348\n",
      "[13]\tvalidation_0-rmse:0.00531\tvalidation_1-rmse:0.03374\n",
      "[14]\tvalidation_0-rmse:0.00426\tvalidation_1-rmse:0.03387\n",
      "[15]\tvalidation_0-rmse:0.00352\tvalidation_1-rmse:0.03419\n",
      "[16]\tvalidation_0-rmse:0.00296\tvalidation_1-rmse:0.03477\n",
      "[17]\tvalidation_0-rmse:0.00258\tvalidation_1-rmse:0.03509\n",
      "[18]\tvalidation_0-rmse:0.00230\tvalidation_1-rmse:0.03552\n",
      "[19]\tvalidation_0-rmse:0.00208\tvalidation_1-rmse:0.03560\n",
      "[20]\tvalidation_0-rmse:0.00186\tvalidation_1-rmse:0.03576\n",
      "[21]\tvalidation_0-rmse:0.00176\tvalidation_1-rmse:0.03581\n",
      "[22]\tvalidation_0-rmse:0.00165\tvalidation_1-rmse:0.03584\n",
      "[23]\tvalidation_0-rmse:0.00148\tvalidation_1-rmse:0.03569\n",
      "[24]\tvalidation_0-rmse:0.00136\tvalidation_1-rmse:0.03577\n",
      "[25]\tvalidation_0-rmse:0.00128\tvalidation_1-rmse:0.03580\n",
      "[26]\tvalidation_0-rmse:0.00119\tvalidation_1-rmse:0.03580\n",
      "[27]\tvalidation_0-rmse:0.00113\tvalidation_1-rmse:0.03581\n",
      "[28]\tvalidation_0-rmse:0.00107\tvalidation_1-rmse:0.03580\n",
      "[29]\tvalidation_0-rmse:0.00105\tvalidation_1-rmse:0.03587\n",
      "[30]\tvalidation_0-rmse:0.00102\tvalidation_1-rmse:0.03588\n",
      "[31]\tvalidation_0-rmse:0.00094\tvalidation_1-rmse:0.03585\n",
      "[32]\tvalidation_0-rmse:0.00090\tvalidation_1-rmse:0.03585\n",
      "[33]\tvalidation_0-rmse:0.00086\tvalidation_1-rmse:0.03574\n",
      "[34]\tvalidation_0-rmse:0.00083\tvalidation_1-rmse:0.03576\n",
      "[35]\tvalidation_0-rmse:0.00079\tvalidation_1-rmse:0.03575\n",
      "[36]\tvalidation_0-rmse:0.00072\tvalidation_1-rmse:0.03572\n",
      "[37]\tvalidation_0-rmse:0.00068\tvalidation_1-rmse:0.03571\n",
      "[38]\tvalidation_0-rmse:0.00068\tvalidation_1-rmse:0.03571\n",
      "[39]\tvalidation_0-rmse:0.00068\tvalidation_1-rmse:0.03571\n",
      "[40]\tvalidation_0-rmse:0.00068\tvalidation_1-rmse:0.03571\n",
      "[41]\tvalidation_0-rmse:0.00068\tvalidation_1-rmse:0.03571\n",
      "[42]\tvalidation_0-rmse:0.00068\tvalidation_1-rmse:0.03571\n",
      "[43]\tvalidation_0-rmse:0.00068\tvalidation_1-rmse:0.03571\n",
      "[44]\tvalidation_0-rmse:0.00068\tvalidation_1-rmse:0.03571\n",
      "[45]\tvalidation_0-rmse:0.00068\tvalidation_1-rmse:0.03571\n",
      "[46]\tvalidation_0-rmse:0.00068\tvalidation_1-rmse:0.03571\n",
      "[47]\tvalidation_0-rmse:0.00068\tvalidation_1-rmse:0.03571\n",
      "[48]\tvalidation_0-rmse:0.00068\tvalidation_1-rmse:0.03571\n"
     ]
    },
    {
     "data": {
      "text/plain": [
       "XGBRegressor(base_score=0.5, booster='gbtree', colsample_bylevel=1,\n",
       "             colsample_bynode=1, colsample_bytree=1, gamma=0, gpu_id=-1,\n",
       "             importance_type='gain', interaction_constraints='',\n",
       "             learning_rate=0.300000012, max_delta_step=0, max_depth=6,\n",
       "             min_child_weight=1, missing=nan, monotone_constraints='()',\n",
       "             n_estimators=1000, n_jobs=12, num_parallel_tree=1, random_state=0,\n",
       "             reg_alpha=0, reg_lambda=1, scale_pos_weight=1, subsample=1,\n",
       "             tree_method='exact', validate_parameters=1, verbosity=None)"
      ]
     },
     "execution_count": 11,
     "metadata": {},
     "output_type": "execute_result"
    }
   ],
   "source": [
    "# Model specification\n",
    "reg = xgb.XGBRegressor(n_estimators=1000)\n",
    "\n",
    "# Training the model\n",
    "reg.fit(X_train, y_train,\n",
    "        eval_set=[(X_train, y_train), (X_test, y_test)],\n",
    "        early_stopping_rounds=40)"
   ]
  },
  {
   "cell_type": "code",
   "execution_count": 12,
   "metadata": {},
   "outputs": [
    {
     "data": {
      "text/plain": [
       "array([ 0.20312083,  0.4124382 ,  0.06151441,  0.14245974, -0.07733961],\n",
       "      dtype=float32)"
      ]
     },
     "execution_count": 12,
     "metadata": {},
     "output_type": "execute_result"
    }
   ],
   "source": [
    "#Forecast on Test Set\n",
    "reg.predict(X_test)"
   ]
  },
  {
   "cell_type": "code",
   "execution_count": null,
   "metadata": {},
   "outputs": [],
   "source": []
  }
 ],
 "metadata": {
  "kernelspec": {
   "display_name": "Python 3",
   "language": "python",
   "name": "python3"
  },
  "language_info": {
   "codemirror_mode": {
    "name": "ipython",
    "version": 3
   },
   "file_extension": ".py",
   "mimetype": "text/x-python",
   "name": "python",
   "nbconvert_exporter": "python",
   "pygments_lexer": "ipython3",
   "version": "3.8.5"
  }
 },
 "nbformat": 4,
 "nbformat_minor": 4
}
